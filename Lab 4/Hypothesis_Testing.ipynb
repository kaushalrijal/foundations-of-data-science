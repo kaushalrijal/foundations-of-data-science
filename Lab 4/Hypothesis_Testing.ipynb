{
  "cells": [
    {
      "cell_type": "markdown",
      "metadata": {
        "id": "2PebIDK2P2TA"
      },
      "source": [
        "# **Hypothesis Testing**"
      ]
    },
    {
      "cell_type": "code",
      "execution_count": 11,
      "metadata": {
        "id": "cMJoVKQtPyUr"
      },
      "outputs": [],
      "source": [
        "import numpy as np\n",
        "import pandas as pd\n",
        "from scipy import stats"
      ]
    },
    {
      "cell_type": "markdown",
      "metadata": {},
      "source": [
        "## **Z-Test**"
      ]
    },
    {
      "cell_type": "markdown",
      "metadata": {},
      "source": [
        "### **Z-Test with one mean**"
      ]
    },
    {
      "cell_type": "code",
      "execution_count": 12,
      "metadata": {
        "colab": {
          "base_uri": "https://localhost:8080/"
        },
        "id": "qZGSW2arQCrC",
        "outputId": "5a4f86fc-9ff7-4ff5-80d2-76c01e370f6b"
      },
      "outputs": [
        {
          "data": {
            "text/plain": [
              "array([79, 30, 69, 96, 24, 13,  9, 33, 71,  1, 44,  2, 27, 60, 24, 55, 45,\n",
              "       11, 81,  4, 59, 40, 51, 56, 95, 87, 11, 82, 44, 52,  7, 10, 92, 75,\n",
              "       16, 56, 43, 31, 80,  4, 66, 27, 50, 77, 15, 55, 13, 63, 91, 42, 27,\n",
              "       30, 44, 11, 85], dtype=int32)"
            ]
          },
          "execution_count": 12,
          "metadata": {},
          "output_type": "execute_result"
        }
      ],
      "source": [
        "pop_mean = 100\n",
        "pop_sd = 15\n",
        "\n",
        "visitors = np.random.randint(100, size=55)\n",
        "visitors"
      ]
    },
    {
      "cell_type": "code",
      "execution_count": 13,
      "metadata": {
        "colab": {
          "base_uri": "https://localhost:8080/"
        },
        "id": "moLnZFiqT9YS",
        "outputId": "518b228a-ede6-4f4b-8093-1eeb4f910dec"
      },
      "outputs": [
        {
          "name": "stdout",
          "output_type": "stream",
          "text": [
            "-27.28262110101253\n"
          ]
        }
      ],
      "source": [
        "# Calculate the sameple mean and size\n",
        "sample_mean = np.mean(visitors)\n",
        "sample_size = len(visitors)\n",
        "\n",
        "# Calculate z-xcore\n",
        "z_score_calculated = (sample_mean - pop_mean)/(pop_sd / np.sqrt(sample_size))\n",
        "print(z_score_calculated)"
      ]
    },
    {
      "cell_type": "code",
      "execution_count": 14,
      "metadata": {
        "colab": {
          "base_uri": "https://localhost:8080/"
        },
        "id": "zNv6NNg4UMzS",
        "outputId": "565e1d2f-1872-491b-c6f6-2b4f3d6612db"
      },
      "outputs": [
        {
          "name": "stdout",
          "output_type": "stream",
          "text": [
            "1.6448536269514722\n"
          ]
        }
      ],
      "source": [
        "alpha = 0.05\n",
        "z_critical = stats.norm.ppf(1 - alpha)\n",
        "print(z_critical)"
      ]
    },
    {
      "cell_type": "code",
      "execution_count": 15,
      "metadata": {
        "colab": {
          "base_uri": "https://localhost:8080/"
        },
        "id": "n7GdJx0KURZy",
        "outputId": "92fce38e-26fe-4939-d41b-7b08f292af2b"
      },
      "outputs": [
        {
          "name": "stdout",
          "output_type": "stream",
          "text": [
            "Calculated Z-Score: -27.28262110101253\n",
            "Critical Z-Score: 1.6448536269514722\n"
          ]
        }
      ],
      "source": [
        "print(\"Calculated Z-Score:\", z_score_calculated)\n",
        "print(\"Critical Z-Score:\", z_critical)"
      ]
    },
    {
      "cell_type": "code",
      "execution_count": 16,
      "metadata": {
        "colab": {
          "base_uri": "https://localhost:8080/"
        },
        "id": "iwcRElI6V573",
        "outputId": "e8c3a6ca-2055-4636-a0db-9eb5f430bc6e"
      },
      "outputs": [
        {
          "name": "stdout",
          "output_type": "stream",
          "text": [
            "Reject Null Hypothesis\n"
          ]
        }
      ],
      "source": [
        "if(np.absolute(z_score_calculated) > np.absolute(z_critical)):\n",
        "  print(\"Reject Null Hypothesis\")\n",
        "else:\n",
        "  print(\"Failed to Reject Null Hypothesis\")"
      ]
    },
    {
      "cell_type": "markdown",
      "metadata": {},
      "source": [
        "**Conclusion:** Reject Null Hypothesis as the absolute value of calculated Z-Score is greater than absolute value of critical Z-Score."
      ]
    },
    {
      "cell_type": "markdown",
      "metadata": {},
      "source": [
        "### **Z-Test with two means**"
      ]
    },
    {
      "cell_type": "code",
      "execution_count": 17,
      "metadata": {},
      "outputs": [
        {
          "name": "stdout",
          "output_type": "stream",
          "text": [
            "Campaign 1 Mean: 51.27272727272727\n",
            "Campaign 2 Mean: 47.92727272727273\n",
            "Z-Score: 0.6733532329440863\n",
            "Critical Z-Value: 1.6448536269514722\n",
            "Fail to reject the null hypothesis.\n"
          ]
        }
      ],
      "source": [
        "camp1_data = np.random.randint(100, size=55)\n",
        "camp2_data = np.random.randint(100, size=55)\n",
        "\n",
        "# Calculate sample mean and standard deviation for campaign 1\n",
        "camp1_mean = np.mean(camp1_data)\n",
        "camp1_std = np.std(camp1_data)\n",
        "n1 = len(camp1_data)\n",
        "\n",
        "# Calculate sample mean and standard deviation for campaign 2\n",
        "camp2_mean = np.mean(camp2_data)\n",
        "camp2_std = np.std(camp2_data)\n",
        "n2 = len(camp2_data)\n",
        "\n",
        "# Calculate the z-score\n",
        "z_score_calculated = (camp1_mean - camp2_mean) / np.sqrt(((camp1_std ** 2) / n1) + ((camp2_std ** 2) / n2))\n",
        "\n",
        "alpha = 0.05\n",
        "\n",
        "# Get the critical value\n",
        "z_critical = stats.norm.ppf(1 - alpha)\n",
        "\n",
        "print(f\"Campaign 1 Mean: {camp1_mean}\")\n",
        "print(f\"Campaign 2 Mean: {camp2_mean}\")\n",
        "print(f\"Z-Score: {z_score_calculated}\")\n",
        "print(f\"Critical Z-Value: {z_critical}\")\n",
        "\n",
        "# Conclusion based on comparing Z-score with critical Z-value\n",
        "if np.absolute(z_score_calculated) > np.absolute(z_critical):\n",
        "    print(\"Reject the null hypothesis.\")\n",
        "else:\n",
        "    print(\"Fail to reject the null hypothesis.\")\n"
      ]
    },
    {
      "cell_type": "markdown",
      "metadata": {},
      "source": [
        "**Conclusion:** We reject the null hypothesis is the absolute value of Z-Score is greater than the absolute critical value of Z-Score."
      ]
    },
    {
      "cell_type": "markdown",
      "metadata": {},
      "source": [
        "## **T-Test**"
      ]
    },
    {
      "cell_type": "markdown",
      "metadata": {
        "id": "RGUaO4huW97h"
      },
      "source": [
        "### **T-Test with single mean**"
      ]
    },
    {
      "cell_type": "code",
      "execution_count": 18,
      "metadata": {
        "colab": {
          "base_uri": "https://localhost:8080/"
        },
        "id": "FJ5rPM_FW9RT",
        "outputId": "44994a08-3f6f-4d5d-8ed8-c7c20fa928ec"
      },
      "outputs": [
        {
          "data": {
            "text/plain": [
              "array([ 1,  3, 20, 16, 23,  2,  1, 19, 69, 57, 73, 65, 14, 82, 75, 71, 11,\n",
              "       95, 67, 17, 43, 14, 17, 62, 20,  2, 58, 18, 97, 70, 81, 58, 38, 20,\n",
              "        8,  9, 61, 73, 57, 23, 54, 58, 99, 66, 31, 22,  3, 42, 12, 34, 41,\n",
              "       71, 52, 80, 58, 41, 60, 33, 89, 49, 90,  3, 57,  5, 37,  4,  1, 57,\n",
              "       88], dtype=int32)"
            ]
          },
          "execution_count": 18,
          "metadata": {},
          "output_type": "execute_result"
        }
      ],
      "source": [
        "visitors = np.random.randint(100, size=69)\n",
        "visitors"
      ]
    },
    {
      "cell_type": "code",
      "execution_count": 19,
      "metadata": {
        "id": "BQ4n-kOAa0uB"
      },
      "outputs": [],
      "source": [
        "pop_mean = 150\n",
        "sample_mean = np.mean(visitors)\n",
        "sample_std = np.std(visitors, ddof=1)\n",
        "\n",
        "n= len(visitors)\n",
        "df = n-1\n",
        "\n",
        "t_calc, _ = stats.ttest_1samp(visitors, pop_mean)\n",
        "\n",
        "alpha = 0.05\n",
        "t_critical = stats.t.ppf(1 - alpha, df)"
      ]
    },
    {
      "cell_type": "code",
      "execution_count": 20,
      "metadata": {
        "colab": {
          "base_uri": "https://localhost:8080/"
        },
        "id": "ygK-3X0BbYfh",
        "outputId": "f61358e3-b44b-4f3d-e5e6-d2e52c9f0df7"
      },
      "outputs": [
        {
          "name": "stdout",
          "output_type": "stream",
          "text": [
            "Calculated T-Score: -30.33627515587886\n",
            "Critical T-Score: 1.667572280796708\n"
          ]
        }
      ],
      "source": [
        "print(\"Calculated T-Score:\", t_calc)\n",
        "print(\"Critical T-Score:\", t_critical)"
      ]
    },
    {
      "cell_type": "code",
      "execution_count": 21,
      "metadata": {
        "colab": {
          "base_uri": "https://localhost:8080/"
        },
        "id": "_KNO1VC3cOmR",
        "outputId": "33a260d1-0a72-4c43-b479-8936511fc08b"
      },
      "outputs": [
        {
          "name": "stdout",
          "output_type": "stream",
          "text": [
            "Reject Null Hypothesis\n"
          ]
        }
      ],
      "source": [
        "if abs(t_calc) > t_critical:\n",
        "  print(\"Reject Null Hypothesis\")\n",
        "else:\n",
        "  print(\"Accept Null Hypothesis\")"
      ]
    },
    {
      "cell_type": "markdown",
      "metadata": {},
      "source": [
        "**Conclusion:** We reject the null hypothesis as the absolute calculated value of T-Score is greater than critical value of T-Score"
      ]
    },
    {
      "cell_type": "markdown",
      "metadata": {},
      "source": [
        "### **T-Test with two means**"
      ]
    },
    {
      "cell_type": "code",
      "execution_count": 22,
      "metadata": {
        "id": "auxbS6uKcgE4"
      },
      "outputs": [
        {
          "name": "stdout",
          "output_type": "stream",
          "text": [
            "    Gender  Marks\n",
            "0   Female     77\n",
            "1     Male     89\n",
            "2   Female     89\n",
            "3   Female     91\n",
            "4     Male     76\n",
            "5     Male     85\n",
            "6     Male     79\n",
            "7     Male     78\n",
            "8   Female     93\n",
            "9   Female     88\n",
            "10    Male     91\n",
            "11    Male     77\n",
            "12  Female     81\n",
            "13    Male     88\n",
            "14  Female     86\n",
            "15  Female     80\n",
            "16  Female     82\n",
            "17    Male     95\n",
            "18    Male     87\n",
            "19  Female     83\n",
            "20  Female     79\n",
            "21    Male     94\n",
            "22    Male     84\n",
            "23    Male     73\n",
            "24    Male     85\n",
            "25  Female     85\n",
            "26  Female     78\n",
            "27    Male     88\n",
            "28    Male     81\n",
            "29    Male     82\n",
            "30  Female     84\n",
            "31  Female     86\n",
            "32  Female     75\n",
            "33  Female     83\n",
            "34  Female     87\n",
            "35    Male     80\n",
            "36    Male     90\n",
            "37  Female     90\n",
            "38  Female     92\n",
            "39    Male     92\n",
            "1     89\n",
            "4     76\n",
            "5     85\n",
            "6     79\n",
            "7     78\n",
            "10    91\n",
            "11    77\n",
            "13    88\n",
            "17    95\n",
            "18    87\n",
            "21    94\n",
            "22    84\n",
            "23    73\n",
            "24    85\n",
            "27    88\n",
            "28    81\n",
            "29    82\n",
            "35    80\n",
            "36    90\n",
            "39    92\n",
            "Name: Marks, dtype: int64\n",
            "0     77\n",
            "2     89\n",
            "3     91\n",
            "8     93\n",
            "9     88\n",
            "12    81\n",
            "14    86\n",
            "15    80\n",
            "16    82\n",
            "19    83\n",
            "20    79\n",
            "25    85\n",
            "26    78\n",
            "30    84\n",
            "31    86\n",
            "32    75\n",
            "33    83\n",
            "34    87\n",
            "37    90\n",
            "38    92\n",
            "Name: Marks, dtype: int64\n",
            "Male Group Mean: 84.7\n",
            "Female Group Mean: 84.45\n",
            "T-Statistic: 0.13733874423305972\n",
            "Degrees of Freedom: 36.61108492606419\n",
            "Critical T-Value: 2.026919251378266\n",
            "Fail to reject the null hypothesis.\n"
          ]
        }
      ],
      "source": [
        "data = {\n",
        "    'Gender': ['Female', 'Male', 'Female', 'Female', 'Male', 'Male', 'Male', 'Male', 'Female', 'Female', 'Male', 'Male',\n",
        "               'Female', 'Male', 'Female', 'Female', 'Female', 'Male', 'Male', 'Female', 'Female', 'Male', 'Male', 'Male',\n",
        "               'Male', 'Female', 'Female', 'Male', 'Male', 'Male', 'Female', 'Female', 'Female', 'Female', 'Female',\n",
        "               'Male', 'Male', 'Female', 'Female', 'Male'],\n",
        "    'Marks': [77, 89, 89, 91, 76, 85, 79, 78, 93, 88, 91, 77, 81, 88, 86, 80, 82, 95, 87, 83, 79, 94, 84, 73, 85, 85, 78, 88, 81, 82, 84, 86, 75, 83, 87, 80, 90, 90, 92, 92]\n",
        "}\n",
        "df = pd.DataFrame(data)\n",
        "print(df)\n",
        "\n",
        "# Separate the data into two groups\n",
        "male_marks = df[df['Gender'] == 'Male']['Marks']\n",
        "female_marks = df[df['Gender'] == 'Female']['Marks']\n",
        "\n",
        "print(male_marks)\n",
        "print(female_marks)\n",
        "\n",
        "mean_male = male_marks.mean()\n",
        "mean_female = female_marks.mean()\n",
        "\n",
        "std_male = male_marks.std(ddof=1)\n",
        "std_female = female_marks.std(ddof=1)\n",
        "\n",
        "n_male = len(male_marks)\n",
        "n_female = len(female_marks)\n",
        "\n",
        "pooled_variance = ((std_male ** 2) / n_male) + ((std_female ** 2) / n_female)\n",
        "\n",
        "t_statistic = (mean_male - mean_female) / np.sqrt(pooled_variance)\n",
        "\n",
        "df = ((std_male ** 2 / n_male + std_female ** 2 / n_female) ** 2) / \\\n",
        "     ((std_male ** 2 / n_male) ** 2 / (n_male - 1) + (std_female ** 2 / n_female) ** 2 / (n_female - 1))\n",
        "\n",
        "alpha = 0.05\n",
        "\n",
        "t_critical = stats.t.ppf(1 - alpha / 2, df)\n",
        "\n",
        "# Display results\n",
        "print(f\"Male Group Mean: {mean_male}\")\n",
        "print(f\"Female Group Mean: {mean_female}\")\n",
        "print(f\"T-Statistic: {t_statistic}\")\n",
        "print(f\"Degrees of Freedom: {df}\")\n",
        "print(f\"Critical T-Value: {t_critical}\")\n",
        "\n",
        "# Conclusion\n",
        "if abs(t_statistic) > t_critical:\n",
        "    print(\"Reject the null hypothesis.\")\n",
        "else:\n",
        "    print(\"Fail to reject the null hypothesis.\")\n"
      ]
    },
    {
      "cell_type": "markdown",
      "metadata": {},
      "source": [
        "**Conclusion**: We failed to reject the null hypothesis as the absolute calculated T-Score is less than absolute critical T-Score"
      ]
    },
    {
      "cell_type": "markdown",
      "metadata": {},
      "source": [
        "## **F-Score**"
      ]
    },
    {
      "cell_type": "code",
      "execution_count": 23,
      "metadata": {},
      "outputs": [
        {
          "name": "stdout",
          "output_type": "stream",
          "text": [
            "F-Statistic: 37.00000000000006\n",
            "F-Critical Value: 5.143252849784718\n",
            "Reject the null hypothesis: There are significant differences between the group means.\n"
          ]
        }
      ],
      "source": [
        "import pandas as pd\n",
        "from scipy.stats import f, f_oneway\n",
        "\n",
        "data = {\n",
        "    \"Shipping Option\": [\"Standard\", \"Express\", \"Same-Day\", \"Standard\", \"Express\", \"Same-Day\",\"Standard\", \"Express\", \"Same-Day\"],\n",
        "    \"Purchase Amounts\": [50, 70, 90, 55, 75, 85, 60, 80, 95]\n",
        "}\n",
        "df = pd.DataFrame(data)\n",
        "\n",
        "standard_shipping = df[df[\"Shipping Option\"] == \"Standard\"][\"Purchase Amounts\"]\n",
        "express_shipping = df[df[\"Shipping Option\"] == \"Express\"][\"Purchase Amounts\"]\n",
        "same_day_shipping = df[df[\"Shipping Option\"] == \"Same-Day\"][\"Purchase Amounts\"]\n",
        "\n",
        "\n",
        "t = 3\n",
        "n = len(df)\n",
        "\n",
        "df_between = t - 1  \n",
        "df_within = n - t  \n",
        "\n",
        "f_statistic, _ = f_oneway(standard_shipping, express_shipping, same_day_shipping)\n",
        "alpha = 0.05\n",
        "f_critical = stats.f.ppf(1 - alpha, df_between, df_within)\n",
        "\n",
        "\n",
        "print(f\"F-Statistic: {f_statistic}\")\n",
        "print(f\"F-Critical Value: {f_critical}\")\n",
        "\n",
        "if f_statistic > f_critical:\n",
        "    print(\"Reject the null hypothesis: There are significant differences between the group means.\")\n",
        "else:\n",
        "    print(\"Fail to reject the null hypothesis: There are no significant differences between the group means.\")\n"
      ]
    },
    {
      "cell_type": "markdown",
      "metadata": {},
      "source": [
        "**Conclusion**: We reject the null hypothesis concluding that there are significant differences between the group means."
      ]
    }
  ],
  "metadata": {
    "colab": {
      "provenance": []
    },
    "kernelspec": {
      "display_name": "Python 3",
      "name": "python3"
    },
    "language_info": {
      "codemirror_mode": {
        "name": "ipython",
        "version": 3
      },
      "file_extension": ".py",
      "mimetype": "text/x-python",
      "name": "python",
      "nbconvert_exporter": "python",
      "pygments_lexer": "ipython3",
      "version": "3.13.0"
    }
  },
  "nbformat": 4,
  "nbformat_minor": 0
}
