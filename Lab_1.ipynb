{
 "cells": [
  {
   "cell_type": "markdown",
   "metadata": {
    "id": "CCt1Bhgeg-IK"
   },
   "source": [
    "## <center>**Lab 1**</center>\n",
    "## **1. Get acquainted with data science tools and perform statistical analysis**\n",
    "### **1.1 Objective**\n",
    "- To familarize yourself with essential tools and libraries used in data science.\n",
    "- To learn and to describe data using descriptive statistics.\n",
    "\n",
    "### **1.2 Theory**\n",
    "#### **Python**\n",
    "Python is a versatile and widely-used programming language for data science due to its simplicity and rich ecosystem of libraries. Its popular libraries include Pandas, NumPy, Scikit-learn, Matplotlib, Seaborn, etc. Python is used for data manipulation, visualization, machine learning, and automation.\n",
    "#### **Anaconda**\n",
    "Anaconda is a distribution of the Python and R programming languages for scientific computing (data science, machine learning applications, large-scale data processing, predictive analytics, etc.), that aims to simplify package management and deployment.\n",
    "#### **Jupyter Notebook**\n",
    "The Jupyter Notebook is an open-source web application that allows you to create and share documents taht contain live, code, equations, visualizations, and narrative text. Its uses include data cleaning and transformation, numerical simulation, statistical modeling, data visualization, machine learning, and much more.\n",
    "#### **SciPy**\n",
    "SciPy is a scientific computation library that uses NumPy underneath. SciPy stands for Scientific Python. It provides more utility functions for optimization, stats and sginal processing. Like NumPy, SciPy is open source so we can use it freely. SciPy, stands for Scientific Python, is used for numerical computations in Python. Both these packages provide extended functionality to work with Python.\n",
    "#### **Stats models**\n",
    "Stats models is a popular library in Python that enables us to estimate and analyze various statistical models. It is built on numeric and scientific libraries like NumPy and SciPy. It includes various models of linear regression like ordinary least squares, generalized least squares, weighted least squares, etc\n",
    "#### **Pandas**\n",
    "Pandas are really powerful. They provide you with a huge set of important commands and features which are used to easily analyze your data. We can use Pandas to perform various tasks like filtering your data according to certain conditions, or segmenting and segregating the data according to preference, etc.\n",
    "#### **Matplotlib**\n",
    "Matplotlib is a Python library used for creating static, interactive, and animated visualizations. It provides a variety of plotting options, such as line plots, bar charts, scatter plots, and histograms. Matplotlib is highly customizable and serves as the foundation for other visualization libraries like Seaborn.\n",
    "#### **Seaborn**\n",
    "Seaborn is a Python library built on Matplotlib, designed to simplify the creation of visually appealing and informative statistical graphics. It includes features like heatmaps, violin plots, pair plots, and categorical plots. Seaborn integrates seamlessly with Pandas, making it ideal for exploratory data analysis.\n",
    "#### **Scikit-learn**\n",
    "Scikit-learn is a powerful machine-learning library in Python that provides tools for supervised and unsupervised learning, such as regression, classification, clustering, and dimensionality reduction. It also includes utilities for model selection, preprocessing, and evaluation. Scikit-learn is built on NumPy, SciPy, and Matplotlib.\n",
    "#### **Google Colab**\n",
    "Google Colab is a cloud-based platform for running Python code, offering free GPU and TPU resources. It supports popular data science libraries like TensorFlow, PyTorch, Pandas, and NumPy. Google Colab is commonly used for machine learning, data analysis, and collaborative projects.\n",
    "#### **Descriptive Statistics**\n",
    "Descriptive statistics is a branch of statistics that focuses on summarizing and organizing data to uncover patterns, relationships, and trends. It provides a foundation for data analysis by offering methods to describe and present data meaningfully.\n",
    "##### **Types of Descriptive statistics:**\n",
    "1. **Measures of Central Tendency:** Central tendency provides a single value that represents the center of typical value of a dataset.\n",
    "    - **Mean**(Average): The sum of all data points divided by the total  number of points.\n",
    "    - **Median**: The middle vlaue of an ordered dataset. It is less sensitive  to outliers.\n",
    "    - **Mode**: The value that appears the most frequently in dataset.\n",
    "2. **Measures of Dispersion (Spread):** Dispersion measures how spread out the data values are around the central tendency.\n",
    "    - **Range:** The difference between the maximum and minimum values.\n",
    "    - **Variance:** The average squared deviation from the mean.\n",
    "    - **Standard Deviation:** The square root of the variance, showing how data points deviate from the mean.\n",
    "    - **Interquartile Range (IQR): The range of the middle 50% of the data, calculated as Q3-Q1.\n",
    "3. **Measures of Shape:** These metrics descrbe the distribution and symmetry of the data.\n",
    "    - **Skewness:** Measures asymmetry. Positive skew indicates a longer tail on the right; negative skew indicates a longer tail on the left.\n",
    "    - **Kurtosis:** Measure the \"tailedness\" of the distribution. High kurtosis means heavy tails; low kurtosis means light tails.\n",
    "  \n",
    "### **1.3 Installation Process**\n",
    "#### **Download Anaconda:**\n",
    "---\n",
    "<b>Step 1: Type \"Anaconda Download\" in Google Chrome. Visit the site \"http://www.anaconda.com\".\n",
    "Step2: Provide email to get a link for downloading or You can skip registration to download.\n",
    "\n",
    "Step3: Scroll the anaconda products website below. Click the 64 bit installer as per your device.Let the download finish.\n",
    "\n",
    "Step4: Click the downloaded.exe file and install Anaconda.\n",
    "\n",
    "Step5: Agree terms and conditions and Click the Justme option.\n",
    "\n",
    "Step6: Use default path to install in C drive.\n",
    "\n",
    "Step7: Use default options…install it and after installation open the anaconda navigator.\n",
    "\n",
    "Step8: Search for a Jupyter Notebook by scrolling.. If not installed , install it and Launch it.\n",
    "\n",
    "Step9: Jupyter Notebook will be launched on your browser. Then Click on “New” and Python3.\n",
    "\n",
    "Step10: Write your code and run it by shortcut… SHIFT+ENTER.\n",
    "</b>\n",
    "\n",
    "#### **Installing Packages:**\n",
    "---\n",
    "<b>\n",
    "Step 1: Go to the folder anaconda on your start menu and open “ Anaconda Prompt”.\n",
    "\n",
    "Step 2: Installing\n",
    "- Confirm Python is instlaled correctly, by typing:<br />\n",
    "       \n",
    ">       python -v\n",
    "- Confirm conda is intalled correctly, by typing:\n",
    "       \n",
    ">       conda -v\n",
    "- You can install packages using pip or conda.\n",
    "       \n",
    ">        pip install <package_name>\n",
    "\n",
    "    or,\n",
    "        \n",
    ">        conda install <package_name>\n",
    "- For installing a particular version of the package.\n",
    "\n",
    ">        pip install <package_name>=1.11.0\n",
    "- For instaling multiple package all at once.\n",
    "        \n",
    ">        pip install <package_name1> <package_name2> <package_name3>\n",
    "- For updating package\n",
    "       \n",
    ">        pip install --upgrade <package_name>\n",
    "- For installing libraries for data-science\n",
    "        \n",
    ">        pip install numpy scipy statsmodel pandas seaborn matplotlib scikit-learn\n",
    "\n",
    "    or,\n",
    "\n",
    ">        conda install numpy scipy statsmodels pandas seaborn matplotlib scikit-learn\n",
    "</b>\n",
    "\n",
    "### **1.4 Code And Result**"
   ]
  },
  {
   "cell_type": "markdown",
   "metadata": {},
   "source": [
    "**Installing Packages**"
   ]
  },
  {
   "cell_type": "code",
   "execution_count": 26,
   "metadata": {
    "colab": {
     "base_uri": "https://localhost:8080/"
    },
    "id": "EFSUqasFg-IN",
    "outputId": "4f3b2511-4c06-444c-e618-2bc5edb430b6"
   },
   "outputs": [
    {
     "name": "stdout",
     "output_type": "stream",
     "text": [
      "Requirement already satisfied: numpy in c:\\users\\kaush.kaushal\\anaconda3\\lib\\site-packages (1.26.4)\n",
      "Requirement already satisfied: pandas in c:\\users\\kaush.kaushal\\anaconda3\\lib\\site-packages (2.2.2)\n",
      "Requirement already satisfied: matplotlib in c:\\users\\kaush.kaushal\\anaconda3\\lib\\site-packages (3.9.2)\n",
      "Requirement already satisfied: seaborn in c:\\users\\kaush.kaushal\\anaconda3\\lib\\site-packages (0.13.2)\n",
      "Requirement already satisfied: python-dateutil>=2.8.2 in c:\\users\\kaush.kaushal\\anaconda3\\lib\\site-packages (from pandas) (2.9.0.post0)\n",
      "Requirement already satisfied: pytz>=2020.1 in c:\\users\\kaush.kaushal\\anaconda3\\lib\\site-packages (from pandas) (2024.1)\n",
      "Requirement already satisfied: tzdata>=2022.7 in c:\\users\\kaush.kaushal\\anaconda3\\lib\\site-packages (from pandas) (2023.3)\n",
      "Requirement already satisfied: contourpy>=1.0.1 in c:\\users\\kaush.kaushal\\anaconda3\\lib\\site-packages (from matplotlib) (1.2.0)\n",
      "Requirement already satisfied: cycler>=0.10 in c:\\users\\kaush.kaushal\\anaconda3\\lib\\site-packages (from matplotlib) (0.11.0)\n",
      "Requirement already satisfied: fonttools>=4.22.0 in c:\\users\\kaush.kaushal\\anaconda3\\lib\\site-packages (from matplotlib) (4.51.0)\n",
      "Requirement already satisfied: kiwisolver>=1.3.1 in c:\\users\\kaush.kaushal\\anaconda3\\lib\\site-packages (from matplotlib) (1.4.4)\n",
      "Requirement already satisfied: packaging>=20.0 in c:\\users\\kaush.kaushal\\anaconda3\\lib\\site-packages (from matplotlib) (24.1)\n",
      "Requirement already satisfied: pillow>=8 in c:\\users\\kaush.kaushal\\anaconda3\\lib\\site-packages (from matplotlib) (10.4.0)\n",
      "Requirement already satisfied: pyparsing>=2.3.1 in c:\\users\\kaush.kaushal\\anaconda3\\lib\\site-packages (from matplotlib) (3.1.2)\n",
      "Requirement already satisfied: six>=1.5 in c:\\users\\kaush.kaushal\\anaconda3\\lib\\site-packages (from python-dateutil>=2.8.2->pandas) (1.16.0)\n"
     ]
    }
   ],
   "source": [
    "!pip install numpy pandas matplotlib seaborn"
   ]
  },
  {
   "cell_type": "code",
   "execution_count": 27,
   "metadata": {
    "id": "ZteWebzFhIQC"
   },
   "outputs": [],
   "source": [
    "import numpy as np\n",
    "import pandas as pd\n",
    "import seaborn as sb\n",
    "import matplotlib.pyplot as plt"
   ]
  },
  {
   "cell_type": "markdown",
   "metadata": {
    "id": "MKDwLq9-hr3P"
   },
   "source": [
    "**Loading CSV**"
   ]
  },
  {
   "cell_type": "code",
   "execution_count": 29,
   "metadata": {
    "id": "s5Js3IZthZQd"
   },
   "outputs": [],
   "source": [
    "df_csv = pd.read_csv(\"FIFA - World Cup Summary.csv\")"
   ]
  },
  {
   "cell_type": "markdown",
   "metadata": {
    "id": "n-7qd832hyBi"
   },
   "source": [
    "**Viewing the top and bottom 5 elements**"
   ]
  },
  {
   "cell_type": "code",
   "execution_count": 31,
   "metadata": {
    "colab": {
     "base_uri": "https://localhost:8080/",
     "height": 313
    },
    "id": "5eXG-p7qhg5R",
    "outputId": "3c1131b2-6e48-43ce-81f1-873a52039d2c"
   },
   "outputs": [
    {
     "data": {
      "text/html": [
       "<div>\n",
       "<style scoped>\n",
       "    .dataframe tbody tr th:only-of-type {\n",
       "        vertical-align: middle;\n",
       "    }\n",
       "\n",
       "    .dataframe tbody tr th {\n",
       "        vertical-align: top;\n",
       "    }\n",
       "\n",
       "    .dataframe thead th {\n",
       "        text-align: right;\n",
       "    }\n",
       "</style>\n",
       "<table border=\"1\" class=\"dataframe\">\n",
       "  <thead>\n",
       "    <tr style=\"text-align: right;\">\n",
       "      <th></th>\n",
       "      <th>YEAR</th>\n",
       "      <th>HOST</th>\n",
       "      <th>CHAMPION</th>\n",
       "      <th>RUNNER UP</th>\n",
       "      <th>THIRD PLACE</th>\n",
       "      <th>TEAMS</th>\n",
       "      <th>MATCHES PLAYED</th>\n",
       "      <th>GOALS SCORED</th>\n",
       "      <th>AVG GOALS PER GAME</th>\n",
       "    </tr>\n",
       "  </thead>\n",
       "  <tbody>\n",
       "    <tr>\n",
       "      <th>0</th>\n",
       "      <td>1930</td>\n",
       "      <td>Uruguay</td>\n",
       "      <td>Uruguay</td>\n",
       "      <td>Argentina</td>\n",
       "      <td>United States</td>\n",
       "      <td>13</td>\n",
       "      <td>16</td>\n",
       "      <td>70</td>\n",
       "      <td>3.6</td>\n",
       "    </tr>\n",
       "    <tr>\n",
       "      <th>1</th>\n",
       "      <td>1934</td>\n",
       "      <td>Italy</td>\n",
       "      <td>Italy</td>\n",
       "      <td>Czechoslovakia</td>\n",
       "      <td>Germany</td>\n",
       "      <td>16</td>\n",
       "      <td>17</td>\n",
       "      <td>70</td>\n",
       "      <td>4.1</td>\n",
       "    </tr>\n",
       "    <tr>\n",
       "      <th>2</th>\n",
       "      <td>1938</td>\n",
       "      <td>France</td>\n",
       "      <td>Italy</td>\n",
       "      <td>Hungary</td>\n",
       "      <td>Brazil</td>\n",
       "      <td>15</td>\n",
       "      <td>18</td>\n",
       "      <td>84</td>\n",
       "      <td>4.7</td>\n",
       "    </tr>\n",
       "    <tr>\n",
       "      <th>3</th>\n",
       "      <td>1950</td>\n",
       "      <td>Brazil</td>\n",
       "      <td>Uruguay</td>\n",
       "      <td>Brazil</td>\n",
       "      <td>Sweden</td>\n",
       "      <td>13</td>\n",
       "      <td>22</td>\n",
       "      <td>88</td>\n",
       "      <td>4.0</td>\n",
       "    </tr>\n",
       "    <tr>\n",
       "      <th>4</th>\n",
       "      <td>1954</td>\n",
       "      <td>Switzerland</td>\n",
       "      <td>West Germany</td>\n",
       "      <td>Hungary</td>\n",
       "      <td>Austria</td>\n",
       "      <td>16</td>\n",
       "      <td>26</td>\n",
       "      <td>140</td>\n",
       "      <td>5.4</td>\n",
       "    </tr>\n",
       "  </tbody>\n",
       "</table>\n",
       "</div>"
      ],
      "text/plain": [
       "   YEAR         HOST      CHAMPION       RUNNER UP    THIRD PLACE  TEAMS  \\\n",
       "0  1930      Uruguay       Uruguay       Argentina  United States     13   \n",
       "1  1934        Italy         Italy  Czechoslovakia        Germany     16   \n",
       "2  1938       France         Italy         Hungary         Brazil     15   \n",
       "3  1950       Brazil       Uruguay          Brazil         Sweden     13   \n",
       "4  1954  Switzerland  West Germany         Hungary        Austria     16   \n",
       "\n",
       "   MATCHES PLAYED  GOALS SCORED  AVG GOALS PER GAME  \n",
       "0              16            70                 3.6  \n",
       "1              17            70                 4.1  \n",
       "2              18            84                 4.7  \n",
       "3              22            88                 4.0  \n",
       "4              26           140                 5.4  "
      ]
     },
     "execution_count": 31,
     "metadata": {},
     "output_type": "execute_result"
    }
   ],
   "source": [
    "df_csv.head()"
   ]
  },
  {
   "cell_type": "code",
   "execution_count": 32,
   "metadata": {
    "colab": {
     "base_uri": "https://localhost:8080/",
     "height": 295
    },
    "id": "jVx70EN6hhua",
    "outputId": "a9eaf0a9-1eba-4fcf-e37c-b45d59652369"
   },
   "outputs": [
    {
     "data": {
      "text/html": [
       "<div>\n",
       "<style scoped>\n",
       "    .dataframe tbody tr th:only-of-type {\n",
       "        vertical-align: middle;\n",
       "    }\n",
       "\n",
       "    .dataframe tbody tr th {\n",
       "        vertical-align: top;\n",
       "    }\n",
       "\n",
       "    .dataframe thead th {\n",
       "        text-align: right;\n",
       "    }\n",
       "</style>\n",
       "<table border=\"1\" class=\"dataframe\">\n",
       "  <thead>\n",
       "    <tr style=\"text-align: right;\">\n",
       "      <th></th>\n",
       "      <th>YEAR</th>\n",
       "      <th>HOST</th>\n",
       "      <th>CHAMPION</th>\n",
       "      <th>RUNNER UP</th>\n",
       "      <th>THIRD PLACE</th>\n",
       "      <th>TEAMS</th>\n",
       "      <th>MATCHES PLAYED</th>\n",
       "      <th>GOALS SCORED</th>\n",
       "      <th>AVG GOALS PER GAME</th>\n",
       "    </tr>\n",
       "  </thead>\n",
       "  <tbody>\n",
       "    <tr>\n",
       "      <th>17</th>\n",
       "      <td>2006</td>\n",
       "      <td>Germany</td>\n",
       "      <td>Italy</td>\n",
       "      <td>France</td>\n",
       "      <td>Germany</td>\n",
       "      <td>32</td>\n",
       "      <td>64</td>\n",
       "      <td>147</td>\n",
       "      <td>2.3</td>\n",
       "    </tr>\n",
       "    <tr>\n",
       "      <th>18</th>\n",
       "      <td>2010</td>\n",
       "      <td>South Africa</td>\n",
       "      <td>Spain</td>\n",
       "      <td>Netherlands</td>\n",
       "      <td>Germany</td>\n",
       "      <td>32</td>\n",
       "      <td>64</td>\n",
       "      <td>145</td>\n",
       "      <td>2.3</td>\n",
       "    </tr>\n",
       "    <tr>\n",
       "      <th>19</th>\n",
       "      <td>2014</td>\n",
       "      <td>Brazil</td>\n",
       "      <td>Germany</td>\n",
       "      <td>Argentina</td>\n",
       "      <td>Netherlands</td>\n",
       "      <td>32</td>\n",
       "      <td>64</td>\n",
       "      <td>171</td>\n",
       "      <td>2.7</td>\n",
       "    </tr>\n",
       "    <tr>\n",
       "      <th>20</th>\n",
       "      <td>2018</td>\n",
       "      <td>Russia</td>\n",
       "      <td>France</td>\n",
       "      <td>Croatia</td>\n",
       "      <td>Belgium</td>\n",
       "      <td>32</td>\n",
       "      <td>64</td>\n",
       "      <td>169</td>\n",
       "      <td>2.6</td>\n",
       "    </tr>\n",
       "    <tr>\n",
       "      <th>21</th>\n",
       "      <td>2022</td>\n",
       "      <td>Qatar</td>\n",
       "      <td>Argentina</td>\n",
       "      <td>France</td>\n",
       "      <td>Croatia</td>\n",
       "      <td>32</td>\n",
       "      <td>64</td>\n",
       "      <td>172</td>\n",
       "      <td>2.7</td>\n",
       "    </tr>\n",
       "  </tbody>\n",
       "</table>\n",
       "</div>"
      ],
      "text/plain": [
       "    YEAR          HOST   CHAMPION    RUNNER UP  THIRD PLACE  TEAMS  \\\n",
       "17  2006       Germany      Italy       France      Germany     32   \n",
       "18  2010  South Africa      Spain  Netherlands      Germany     32   \n",
       "19  2014        Brazil    Germany    Argentina  Netherlands     32   \n",
       "20  2018        Russia     France      Croatia      Belgium     32   \n",
       "21  2022         Qatar  Argentina       France      Croatia     32   \n",
       "\n",
       "    MATCHES PLAYED  GOALS SCORED  AVG GOALS PER GAME  \n",
       "17              64           147                 2.3  \n",
       "18              64           145                 2.3  \n",
       "19              64           171                 2.7  \n",
       "20              64           169                 2.6  \n",
       "21              64           172                 2.7  "
      ]
     },
     "execution_count": 32,
     "metadata": {},
     "output_type": "execute_result"
    }
   ],
   "source": [
    "df_csv.tail()"
   ]
  },
  {
   "cell_type": "markdown",
   "metadata": {
    "id": "cX_5ztFNh7KT"
   },
   "source": [
    "**Shape of the dataframe**"
   ]
  },
  {
   "cell_type": "code",
   "execution_count": 34,
   "metadata": {
    "colab": {
     "base_uri": "https://localhost:8080/"
    },
    "id": "RXBpfXTshlOB",
    "outputId": "9213b662-9d0c-4cd1-ec49-54d621fd16b2"
   },
   "outputs": [
    {
     "data": {
      "text/plain": [
       "(22, 9)"
      ]
     },
     "execution_count": 34,
     "metadata": {},
     "output_type": "execute_result"
    }
   ],
   "source": [
    "df_csv.shape"
   ]
  },
  {
   "cell_type": "markdown",
   "metadata": {
    "id": "n46hc6WhiHnz"
   },
   "source": [
    "This shows that the dataframe has 9 columns and 22 rows."
   ]
  },
  {
   "cell_type": "markdown",
   "metadata": {
    "id": "_OMqJssgiUFK"
   },
   "source": [
    "**Checking the properties of the data columns:**"
   ]
  },
  {
   "cell_type": "code",
   "execution_count": 37,
   "metadata": {
    "colab": {
     "base_uri": "https://localhost:8080/"
    },
    "id": "DjHyc4jWh_PJ",
    "outputId": "b63847b4-4054-4583-e373-e71a6cca091e"
   },
   "outputs": [
    {
     "name": "stdout",
     "output_type": "stream",
     "text": [
      "<class 'pandas.core.frame.DataFrame'>\n",
      "RangeIndex: 22 entries, 0 to 21\n",
      "Data columns (total 9 columns):\n",
      " #   Column              Non-Null Count  Dtype  \n",
      "---  ------              --------------  -----  \n",
      " 0   YEAR                22 non-null     int64  \n",
      " 1   HOST                22 non-null     object \n",
      " 2   CHAMPION            22 non-null     object \n",
      " 3   RUNNER UP           22 non-null     object \n",
      " 4   THIRD PLACE         22 non-null     object \n",
      " 5   TEAMS               22 non-null     int64  \n",
      " 6   MATCHES PLAYED      22 non-null     int64  \n",
      " 7   GOALS SCORED        22 non-null     int64  \n",
      " 8   AVG GOALS PER GAME  22 non-null     float64\n",
      "dtypes: float64(1), int64(4), object(4)\n",
      "memory usage: 1.7+ KB\n"
     ]
    }
   ],
   "source": [
    "df_csv.info()"
   ]
  },
  {
   "cell_type": "markdown",
   "metadata": {
    "id": "5flFlKIPikfM"
   },
   "source": [
    "This shows that the dataframe has 4 columns with integer data type, 4 objects, and 1 float."
   ]
  },
  {
   "cell_type": "markdown",
   "metadata": {
    "id": "Cn0QPoBQi2Iz"
   },
   "source": [
    "**Checking for null elements**"
   ]
  },
  {
   "cell_type": "code",
   "execution_count": 40,
   "metadata": {
    "colab": {
     "base_uri": "https://localhost:8080/",
     "height": 791
    },
    "id": "NAexwUvRigLr",
    "outputId": "13454e41-2626-4840-dbaa-c02affef682f"
   },
   "outputs": [
    {
     "data": {
      "text/html": [
       "<div>\n",
       "<style scoped>\n",
       "    .dataframe tbody tr th:only-of-type {\n",
       "        vertical-align: middle;\n",
       "    }\n",
       "\n",
       "    .dataframe tbody tr th {\n",
       "        vertical-align: top;\n",
       "    }\n",
       "\n",
       "    .dataframe thead th {\n",
       "        text-align: right;\n",
       "    }\n",
       "</style>\n",
       "<table border=\"1\" class=\"dataframe\">\n",
       "  <thead>\n",
       "    <tr style=\"text-align: right;\">\n",
       "      <th></th>\n",
       "      <th>YEAR</th>\n",
       "      <th>HOST</th>\n",
       "      <th>CHAMPION</th>\n",
       "      <th>RUNNER UP</th>\n",
       "      <th>THIRD PLACE</th>\n",
       "      <th>TEAMS</th>\n",
       "      <th>MATCHES PLAYED</th>\n",
       "      <th>GOALS SCORED</th>\n",
       "      <th>AVG GOALS PER GAME</th>\n",
       "    </tr>\n",
       "  </thead>\n",
       "  <tbody>\n",
       "    <tr>\n",
       "      <th>0</th>\n",
       "      <td>False</td>\n",
       "      <td>False</td>\n",
       "      <td>False</td>\n",
       "      <td>False</td>\n",
       "      <td>False</td>\n",
       "      <td>False</td>\n",
       "      <td>False</td>\n",
       "      <td>False</td>\n",
       "      <td>False</td>\n",
       "    </tr>\n",
       "    <tr>\n",
       "      <th>1</th>\n",
       "      <td>False</td>\n",
       "      <td>False</td>\n",
       "      <td>False</td>\n",
       "      <td>False</td>\n",
       "      <td>False</td>\n",
       "      <td>False</td>\n",
       "      <td>False</td>\n",
       "      <td>False</td>\n",
       "      <td>False</td>\n",
       "    </tr>\n",
       "    <tr>\n",
       "      <th>2</th>\n",
       "      <td>False</td>\n",
       "      <td>False</td>\n",
       "      <td>False</td>\n",
       "      <td>False</td>\n",
       "      <td>False</td>\n",
       "      <td>False</td>\n",
       "      <td>False</td>\n",
       "      <td>False</td>\n",
       "      <td>False</td>\n",
       "    </tr>\n",
       "    <tr>\n",
       "      <th>3</th>\n",
       "      <td>False</td>\n",
       "      <td>False</td>\n",
       "      <td>False</td>\n",
       "      <td>False</td>\n",
       "      <td>False</td>\n",
       "      <td>False</td>\n",
       "      <td>False</td>\n",
       "      <td>False</td>\n",
       "      <td>False</td>\n",
       "    </tr>\n",
       "    <tr>\n",
       "      <th>4</th>\n",
       "      <td>False</td>\n",
       "      <td>False</td>\n",
       "      <td>False</td>\n",
       "      <td>False</td>\n",
       "      <td>False</td>\n",
       "      <td>False</td>\n",
       "      <td>False</td>\n",
       "      <td>False</td>\n",
       "      <td>False</td>\n",
       "    </tr>\n",
       "    <tr>\n",
       "      <th>5</th>\n",
       "      <td>False</td>\n",
       "      <td>False</td>\n",
       "      <td>False</td>\n",
       "      <td>False</td>\n",
       "      <td>False</td>\n",
       "      <td>False</td>\n",
       "      <td>False</td>\n",
       "      <td>False</td>\n",
       "      <td>False</td>\n",
       "    </tr>\n",
       "    <tr>\n",
       "      <th>6</th>\n",
       "      <td>False</td>\n",
       "      <td>False</td>\n",
       "      <td>False</td>\n",
       "      <td>False</td>\n",
       "      <td>False</td>\n",
       "      <td>False</td>\n",
       "      <td>False</td>\n",
       "      <td>False</td>\n",
       "      <td>False</td>\n",
       "    </tr>\n",
       "    <tr>\n",
       "      <th>7</th>\n",
       "      <td>False</td>\n",
       "      <td>False</td>\n",
       "      <td>False</td>\n",
       "      <td>False</td>\n",
       "      <td>False</td>\n",
       "      <td>False</td>\n",
       "      <td>False</td>\n",
       "      <td>False</td>\n",
       "      <td>False</td>\n",
       "    </tr>\n",
       "    <tr>\n",
       "      <th>8</th>\n",
       "      <td>False</td>\n",
       "      <td>False</td>\n",
       "      <td>False</td>\n",
       "      <td>False</td>\n",
       "      <td>False</td>\n",
       "      <td>False</td>\n",
       "      <td>False</td>\n",
       "      <td>False</td>\n",
       "      <td>False</td>\n",
       "    </tr>\n",
       "    <tr>\n",
       "      <th>9</th>\n",
       "      <td>False</td>\n",
       "      <td>False</td>\n",
       "      <td>False</td>\n",
       "      <td>False</td>\n",
       "      <td>False</td>\n",
       "      <td>False</td>\n",
       "      <td>False</td>\n",
       "      <td>False</td>\n",
       "      <td>False</td>\n",
       "    </tr>\n",
       "    <tr>\n",
       "      <th>10</th>\n",
       "      <td>False</td>\n",
       "      <td>False</td>\n",
       "      <td>False</td>\n",
       "      <td>False</td>\n",
       "      <td>False</td>\n",
       "      <td>False</td>\n",
       "      <td>False</td>\n",
       "      <td>False</td>\n",
       "      <td>False</td>\n",
       "    </tr>\n",
       "    <tr>\n",
       "      <th>11</th>\n",
       "      <td>False</td>\n",
       "      <td>False</td>\n",
       "      <td>False</td>\n",
       "      <td>False</td>\n",
       "      <td>False</td>\n",
       "      <td>False</td>\n",
       "      <td>False</td>\n",
       "      <td>False</td>\n",
       "      <td>False</td>\n",
       "    </tr>\n",
       "    <tr>\n",
       "      <th>12</th>\n",
       "      <td>False</td>\n",
       "      <td>False</td>\n",
       "      <td>False</td>\n",
       "      <td>False</td>\n",
       "      <td>False</td>\n",
       "      <td>False</td>\n",
       "      <td>False</td>\n",
       "      <td>False</td>\n",
       "      <td>False</td>\n",
       "    </tr>\n",
       "    <tr>\n",
       "      <th>13</th>\n",
       "      <td>False</td>\n",
       "      <td>False</td>\n",
       "      <td>False</td>\n",
       "      <td>False</td>\n",
       "      <td>False</td>\n",
       "      <td>False</td>\n",
       "      <td>False</td>\n",
       "      <td>False</td>\n",
       "      <td>False</td>\n",
       "    </tr>\n",
       "    <tr>\n",
       "      <th>14</th>\n",
       "      <td>False</td>\n",
       "      <td>False</td>\n",
       "      <td>False</td>\n",
       "      <td>False</td>\n",
       "      <td>False</td>\n",
       "      <td>False</td>\n",
       "      <td>False</td>\n",
       "      <td>False</td>\n",
       "      <td>False</td>\n",
       "    </tr>\n",
       "    <tr>\n",
       "      <th>15</th>\n",
       "      <td>False</td>\n",
       "      <td>False</td>\n",
       "      <td>False</td>\n",
       "      <td>False</td>\n",
       "      <td>False</td>\n",
       "      <td>False</td>\n",
       "      <td>False</td>\n",
       "      <td>False</td>\n",
       "      <td>False</td>\n",
       "    </tr>\n",
       "    <tr>\n",
       "      <th>16</th>\n",
       "      <td>False</td>\n",
       "      <td>False</td>\n",
       "      <td>False</td>\n",
       "      <td>False</td>\n",
       "      <td>False</td>\n",
       "      <td>False</td>\n",
       "      <td>False</td>\n",
       "      <td>False</td>\n",
       "      <td>False</td>\n",
       "    </tr>\n",
       "    <tr>\n",
       "      <th>17</th>\n",
       "      <td>False</td>\n",
       "      <td>False</td>\n",
       "      <td>False</td>\n",
       "      <td>False</td>\n",
       "      <td>False</td>\n",
       "      <td>False</td>\n",
       "      <td>False</td>\n",
       "      <td>False</td>\n",
       "      <td>False</td>\n",
       "    </tr>\n",
       "    <tr>\n",
       "      <th>18</th>\n",
       "      <td>False</td>\n",
       "      <td>False</td>\n",
       "      <td>False</td>\n",
       "      <td>False</td>\n",
       "      <td>False</td>\n",
       "      <td>False</td>\n",
       "      <td>False</td>\n",
       "      <td>False</td>\n",
       "      <td>False</td>\n",
       "    </tr>\n",
       "    <tr>\n",
       "      <th>19</th>\n",
       "      <td>False</td>\n",
       "      <td>False</td>\n",
       "      <td>False</td>\n",
       "      <td>False</td>\n",
       "      <td>False</td>\n",
       "      <td>False</td>\n",
       "      <td>False</td>\n",
       "      <td>False</td>\n",
       "      <td>False</td>\n",
       "    </tr>\n",
       "    <tr>\n",
       "      <th>20</th>\n",
       "      <td>False</td>\n",
       "      <td>False</td>\n",
       "      <td>False</td>\n",
       "      <td>False</td>\n",
       "      <td>False</td>\n",
       "      <td>False</td>\n",
       "      <td>False</td>\n",
       "      <td>False</td>\n",
       "      <td>False</td>\n",
       "    </tr>\n",
       "    <tr>\n",
       "      <th>21</th>\n",
       "      <td>False</td>\n",
       "      <td>False</td>\n",
       "      <td>False</td>\n",
       "      <td>False</td>\n",
       "      <td>False</td>\n",
       "      <td>False</td>\n",
       "      <td>False</td>\n",
       "      <td>False</td>\n",
       "      <td>False</td>\n",
       "    </tr>\n",
       "  </tbody>\n",
       "</table>\n",
       "</div>"
      ],
      "text/plain": [
       "     YEAR   HOST  CHAMPION  RUNNER UP  THIRD PLACE  TEAMS  MATCHES PLAYED  \\\n",
       "0   False  False     False      False        False  False           False   \n",
       "1   False  False     False      False        False  False           False   \n",
       "2   False  False     False      False        False  False           False   \n",
       "3   False  False     False      False        False  False           False   \n",
       "4   False  False     False      False        False  False           False   \n",
       "5   False  False     False      False        False  False           False   \n",
       "6   False  False     False      False        False  False           False   \n",
       "7   False  False     False      False        False  False           False   \n",
       "8   False  False     False      False        False  False           False   \n",
       "9   False  False     False      False        False  False           False   \n",
       "10  False  False     False      False        False  False           False   \n",
       "11  False  False     False      False        False  False           False   \n",
       "12  False  False     False      False        False  False           False   \n",
       "13  False  False     False      False        False  False           False   \n",
       "14  False  False     False      False        False  False           False   \n",
       "15  False  False     False      False        False  False           False   \n",
       "16  False  False     False      False        False  False           False   \n",
       "17  False  False     False      False        False  False           False   \n",
       "18  False  False     False      False        False  False           False   \n",
       "19  False  False     False      False        False  False           False   \n",
       "20  False  False     False      False        False  False           False   \n",
       "21  False  False     False      False        False  False           False   \n",
       "\n",
       "    GOALS SCORED  AVG GOALS PER GAME  \n",
       "0          False               False  \n",
       "1          False               False  \n",
       "2          False               False  \n",
       "3          False               False  \n",
       "4          False               False  \n",
       "5          False               False  \n",
       "6          False               False  \n",
       "7          False               False  \n",
       "8          False               False  \n",
       "9          False               False  \n",
       "10         False               False  \n",
       "11         False               False  \n",
       "12         False               False  \n",
       "13         False               False  \n",
       "14         False               False  \n",
       "15         False               False  \n",
       "16         False               False  \n",
       "17         False               False  \n",
       "18         False               False  \n",
       "19         False               False  \n",
       "20         False               False  \n",
       "21         False               False  "
      ]
     },
     "execution_count": 40,
     "metadata": {},
     "output_type": "execute_result"
    }
   ],
   "source": [
    "df_csv.isnull()"
   ]
  },
  {
   "cell_type": "code",
   "execution_count": 41,
   "metadata": {
    "colab": {
     "base_uri": "https://localhost:8080/",
     "height": 366
    },
    "id": "Zs4_3_aCi6Gq",
    "outputId": "2bf3efd9-f3d5-477c-c674-b72f8c7b0c73"
   },
   "outputs": [
    {
     "data": {
      "text/plain": [
       "YEAR                  0\n",
       "HOST                  0\n",
       "CHAMPION              0\n",
       "RUNNER UP             0\n",
       "THIRD PLACE           0\n",
       "TEAMS                 0\n",
       "MATCHES PLAYED        0\n",
       "GOALS SCORED          0\n",
       "AVG GOALS PER GAME    0\n",
       "dtype: int64"
      ]
     },
     "execution_count": 41,
     "metadata": {},
     "output_type": "execute_result"
    }
   ],
   "source": [
    "df_csv.isnull().sum()"
   ]
  },
  {
   "cell_type": "markdown",
   "metadata": {
    "id": "7Dvd7fSwjBoA"
   },
   "source": [
    "Since the sum of null elements is zero, there are no null elements in the data frame."
   ]
  },
  {
   "cell_type": "markdown",
   "metadata": {
    "id": "w5IFuCCellnC"
   },
   "source": [
    "**Describing the dataframe**"
   ]
  },
  {
   "cell_type": "code",
   "execution_count": 44,
   "metadata": {
    "colab": {
     "base_uri": "https://localhost:8080/",
     "height": 317
    },
    "id": "qReYyHLNi_1k",
    "outputId": "6e777b7a-3478-42f4-8f29-f761c5e9f353"
   },
   "outputs": [
    {
     "data": {
      "text/html": [
       "<div>\n",
       "<style scoped>\n",
       "    .dataframe tbody tr th:only-of-type {\n",
       "        vertical-align: middle;\n",
       "    }\n",
       "\n",
       "    .dataframe tbody tr th {\n",
       "        vertical-align: top;\n",
       "    }\n",
       "\n",
       "    .dataframe thead th {\n",
       "        text-align: right;\n",
       "    }\n",
       "</style>\n",
       "<table border=\"1\" class=\"dataframe\">\n",
       "  <thead>\n",
       "    <tr style=\"text-align: right;\">\n",
       "      <th></th>\n",
       "      <th>YEAR</th>\n",
       "      <th>TEAMS</th>\n",
       "      <th>MATCHES PLAYED</th>\n",
       "      <th>GOALS SCORED</th>\n",
       "      <th>AVG GOALS PER GAME</th>\n",
       "    </tr>\n",
       "  </thead>\n",
       "  <tbody>\n",
       "    <tr>\n",
       "      <th>count</th>\n",
       "      <td>22.000000</td>\n",
       "      <td>22.000000</td>\n",
       "      <td>22.000000</td>\n",
       "      <td>22.000000</td>\n",
       "      <td>22.000000</td>\n",
       "    </tr>\n",
       "    <tr>\n",
       "      <th>mean</th>\n",
       "      <td>1978.909091</td>\n",
       "      <td>22.227273</td>\n",
       "      <td>43.727273</td>\n",
       "      <td>123.636364</td>\n",
       "      <td>3.059091</td>\n",
       "    </tr>\n",
       "    <tr>\n",
       "      <th>std</th>\n",
       "      <td>27.738419</td>\n",
       "      <td>7.602830</td>\n",
       "      <td>17.776876</td>\n",
       "      <td>34.841882</td>\n",
       "      <td>0.831327</td>\n",
       "    </tr>\n",
       "    <tr>\n",
       "      <th>min</th>\n",
       "      <td>1930.000000</td>\n",
       "      <td>13.000000</td>\n",
       "      <td>16.000000</td>\n",
       "      <td>70.000000</td>\n",
       "      <td>2.200000</td>\n",
       "    </tr>\n",
       "    <tr>\n",
       "      <th>25%</th>\n",
       "      <td>1959.000000</td>\n",
       "      <td>16.000000</td>\n",
       "      <td>32.000000</td>\n",
       "      <td>90.500000</td>\n",
       "      <td>2.600000</td>\n",
       "    </tr>\n",
       "    <tr>\n",
       "      <th>50%</th>\n",
       "      <td>1980.000000</td>\n",
       "      <td>20.000000</td>\n",
       "      <td>45.000000</td>\n",
       "      <td>129.000000</td>\n",
       "      <td>2.700000</td>\n",
       "    </tr>\n",
       "    <tr>\n",
       "      <th>75%</th>\n",
       "      <td>2001.000000</td>\n",
       "      <td>32.000000</td>\n",
       "      <td>64.000000</td>\n",
       "      <td>146.750000</td>\n",
       "      <td>3.450000</td>\n",
       "    </tr>\n",
       "    <tr>\n",
       "      <th>max</th>\n",
       "      <td>2022.000000</td>\n",
       "      <td>32.000000</td>\n",
       "      <td>64.000000</td>\n",
       "      <td>172.000000</td>\n",
       "      <td>5.400000</td>\n",
       "    </tr>\n",
       "  </tbody>\n",
       "</table>\n",
       "</div>"
      ],
      "text/plain": [
       "              YEAR      TEAMS  MATCHES PLAYED  GOALS SCORED  \\\n",
       "count    22.000000  22.000000       22.000000     22.000000   \n",
       "mean   1978.909091  22.227273       43.727273    123.636364   \n",
       "std      27.738419   7.602830       17.776876     34.841882   \n",
       "min    1930.000000  13.000000       16.000000     70.000000   \n",
       "25%    1959.000000  16.000000       32.000000     90.500000   \n",
       "50%    1980.000000  20.000000       45.000000    129.000000   \n",
       "75%    2001.000000  32.000000       64.000000    146.750000   \n",
       "max    2022.000000  32.000000       64.000000    172.000000   \n",
       "\n",
       "       AVG GOALS PER GAME  \n",
       "count           22.000000  \n",
       "mean             3.059091  \n",
       "std              0.831327  \n",
       "min              2.200000  \n",
       "25%              2.600000  \n",
       "50%              2.700000  \n",
       "75%              3.450000  \n",
       "max              5.400000  "
      ]
     },
     "execution_count": 44,
     "metadata": {},
     "output_type": "execute_result"
    }
   ],
   "source": [
    "df_csv.describe()"
   ]
  },
  {
   "cell_type": "markdown",
   "metadata": {
    "id": "Lf3oufkAloPK"
   },
   "source": [
    "Here, we can clearly see that the most amount of goals scored in a single tournament was 172 goals and highest goals per game was 5.4 whereas the least amount of goals scored in a tournament was 70 and average goals per game was 2.2. We also get the data about the mean, median, and quartiles of the goals scored and goals per game."
   ]
  },
  {
   "cell_type": "code",
   "execution_count": 46,
   "metadata": {
    "colab": {
     "base_uri": "https://localhost:8080/",
     "height": 174
    },
    "id": "b_kdnGxOjTAD",
    "outputId": "7a927a56-2456-4815-a106-c25cf037afe0"
   },
   "outputs": [
    {
     "data": {
      "text/html": [
       "<div>\n",
       "<style scoped>\n",
       "    .dataframe tbody tr th:only-of-type {\n",
       "        vertical-align: middle;\n",
       "    }\n",
       "\n",
       "    .dataframe tbody tr th {\n",
       "        vertical-align: top;\n",
       "    }\n",
       "\n",
       "    .dataframe thead th {\n",
       "        text-align: right;\n",
       "    }\n",
       "</style>\n",
       "<table border=\"1\" class=\"dataframe\">\n",
       "  <thead>\n",
       "    <tr style=\"text-align: right;\">\n",
       "      <th></th>\n",
       "      <th>HOST</th>\n",
       "      <th>CHAMPION</th>\n",
       "      <th>RUNNER UP</th>\n",
       "      <th>THIRD PLACE</th>\n",
       "    </tr>\n",
       "  </thead>\n",
       "  <tbody>\n",
       "    <tr>\n",
       "      <th>count</th>\n",
       "      <td>22</td>\n",
       "      <td>22</td>\n",
       "      <td>22</td>\n",
       "      <td>22</td>\n",
       "    </tr>\n",
       "    <tr>\n",
       "      <th>unique</th>\n",
       "      <td>18</td>\n",
       "      <td>9</td>\n",
       "      <td>11</td>\n",
       "      <td>15</td>\n",
       "    </tr>\n",
       "    <tr>\n",
       "      <th>top</th>\n",
       "      <td>France</td>\n",
       "      <td>Brazil</td>\n",
       "      <td>Argentina</td>\n",
       "      <td>Germany</td>\n",
       "    </tr>\n",
       "    <tr>\n",
       "      <th>freq</th>\n",
       "      <td>2</td>\n",
       "      <td>5</td>\n",
       "      <td>3</td>\n",
       "      <td>3</td>\n",
       "    </tr>\n",
       "  </tbody>\n",
       "</table>\n",
       "</div>"
      ],
      "text/plain": [
       "          HOST CHAMPION  RUNNER UP THIRD PLACE\n",
       "count       22       22         22          22\n",
       "unique      18        9         11          15\n",
       "top     France   Brazil  Argentina     Germany\n",
       "freq         2        5          3           3"
      ]
     },
     "execution_count": 46,
     "metadata": {},
     "output_type": "execute_result"
    }
   ],
   "source": [
    "df_csv.describe(include=\"object\")"
   ]
  },
  {
   "cell_type": "markdown",
   "metadata": {
    "id": "YHv8tpOLmGIE"
   },
   "source": [
    "By analyzing the objects we found out that Brazil has been the champion most no. of times(5) whereas Argentina and Germany have been Runner Up and Third respectively(3 each). France has hosted the most no. of world cups."
   ]
  },
  {
   "cell_type": "markdown",
   "metadata": {
    "id": "H3hx4lPppIZ5"
   },
   "source": [
    "**Describe all data types at once**"
   ]
  },
  {
   "cell_type": "code",
   "execution_count": 49,
   "metadata": {
    "colab": {
     "base_uri": "https://localhost:8080/",
     "height": 449
    },
    "id": "vFus8qP7mYoC",
    "outputId": "8ed46ff7-b069-4dce-a494-66d19219c15a"
   },
   "outputs": [
    {
     "data": {
      "text/html": [
       "<div>\n",
       "<style scoped>\n",
       "    .dataframe tbody tr th:only-of-type {\n",
       "        vertical-align: middle;\n",
       "    }\n",
       "\n",
       "    .dataframe tbody tr th {\n",
       "        vertical-align: top;\n",
       "    }\n",
       "\n",
       "    .dataframe thead th {\n",
       "        text-align: right;\n",
       "    }\n",
       "</style>\n",
       "<table border=\"1\" class=\"dataframe\">\n",
       "  <thead>\n",
       "    <tr style=\"text-align: right;\">\n",
       "      <th></th>\n",
       "      <th>YEAR</th>\n",
       "      <th>HOST</th>\n",
       "      <th>CHAMPION</th>\n",
       "      <th>RUNNER UP</th>\n",
       "      <th>THIRD PLACE</th>\n",
       "      <th>TEAMS</th>\n",
       "      <th>MATCHES PLAYED</th>\n",
       "      <th>GOALS SCORED</th>\n",
       "      <th>AVG GOALS PER GAME</th>\n",
       "    </tr>\n",
       "  </thead>\n",
       "  <tbody>\n",
       "    <tr>\n",
       "      <th>count</th>\n",
       "      <td>22.000000</td>\n",
       "      <td>22</td>\n",
       "      <td>22</td>\n",
       "      <td>22</td>\n",
       "      <td>22</td>\n",
       "      <td>22.000000</td>\n",
       "      <td>22.000000</td>\n",
       "      <td>22.000000</td>\n",
       "      <td>22.000000</td>\n",
       "    </tr>\n",
       "    <tr>\n",
       "      <th>unique</th>\n",
       "      <td>NaN</td>\n",
       "      <td>18</td>\n",
       "      <td>9</td>\n",
       "      <td>11</td>\n",
       "      <td>15</td>\n",
       "      <td>NaN</td>\n",
       "      <td>NaN</td>\n",
       "      <td>NaN</td>\n",
       "      <td>NaN</td>\n",
       "    </tr>\n",
       "    <tr>\n",
       "      <th>top</th>\n",
       "      <td>NaN</td>\n",
       "      <td>France</td>\n",
       "      <td>Brazil</td>\n",
       "      <td>Argentina</td>\n",
       "      <td>Germany</td>\n",
       "      <td>NaN</td>\n",
       "      <td>NaN</td>\n",
       "      <td>NaN</td>\n",
       "      <td>NaN</td>\n",
       "    </tr>\n",
       "    <tr>\n",
       "      <th>freq</th>\n",
       "      <td>NaN</td>\n",
       "      <td>2</td>\n",
       "      <td>5</td>\n",
       "      <td>3</td>\n",
       "      <td>3</td>\n",
       "      <td>NaN</td>\n",
       "      <td>NaN</td>\n",
       "      <td>NaN</td>\n",
       "      <td>NaN</td>\n",
       "    </tr>\n",
       "    <tr>\n",
       "      <th>mean</th>\n",
       "      <td>1978.909091</td>\n",
       "      <td>NaN</td>\n",
       "      <td>NaN</td>\n",
       "      <td>NaN</td>\n",
       "      <td>NaN</td>\n",
       "      <td>22.227273</td>\n",
       "      <td>43.727273</td>\n",
       "      <td>123.636364</td>\n",
       "      <td>3.059091</td>\n",
       "    </tr>\n",
       "    <tr>\n",
       "      <th>std</th>\n",
       "      <td>27.738419</td>\n",
       "      <td>NaN</td>\n",
       "      <td>NaN</td>\n",
       "      <td>NaN</td>\n",
       "      <td>NaN</td>\n",
       "      <td>7.602830</td>\n",
       "      <td>17.776876</td>\n",
       "      <td>34.841882</td>\n",
       "      <td>0.831327</td>\n",
       "    </tr>\n",
       "    <tr>\n",
       "      <th>min</th>\n",
       "      <td>1930.000000</td>\n",
       "      <td>NaN</td>\n",
       "      <td>NaN</td>\n",
       "      <td>NaN</td>\n",
       "      <td>NaN</td>\n",
       "      <td>13.000000</td>\n",
       "      <td>16.000000</td>\n",
       "      <td>70.000000</td>\n",
       "      <td>2.200000</td>\n",
       "    </tr>\n",
       "    <tr>\n",
       "      <th>25%</th>\n",
       "      <td>1959.000000</td>\n",
       "      <td>NaN</td>\n",
       "      <td>NaN</td>\n",
       "      <td>NaN</td>\n",
       "      <td>NaN</td>\n",
       "      <td>16.000000</td>\n",
       "      <td>32.000000</td>\n",
       "      <td>90.500000</td>\n",
       "      <td>2.600000</td>\n",
       "    </tr>\n",
       "    <tr>\n",
       "      <th>50%</th>\n",
       "      <td>1980.000000</td>\n",
       "      <td>NaN</td>\n",
       "      <td>NaN</td>\n",
       "      <td>NaN</td>\n",
       "      <td>NaN</td>\n",
       "      <td>20.000000</td>\n",
       "      <td>45.000000</td>\n",
       "      <td>129.000000</td>\n",
       "      <td>2.700000</td>\n",
       "    </tr>\n",
       "    <tr>\n",
       "      <th>75%</th>\n",
       "      <td>2001.000000</td>\n",
       "      <td>NaN</td>\n",
       "      <td>NaN</td>\n",
       "      <td>NaN</td>\n",
       "      <td>NaN</td>\n",
       "      <td>32.000000</td>\n",
       "      <td>64.000000</td>\n",
       "      <td>146.750000</td>\n",
       "      <td>3.450000</td>\n",
       "    </tr>\n",
       "    <tr>\n",
       "      <th>max</th>\n",
       "      <td>2022.000000</td>\n",
       "      <td>NaN</td>\n",
       "      <td>NaN</td>\n",
       "      <td>NaN</td>\n",
       "      <td>NaN</td>\n",
       "      <td>32.000000</td>\n",
       "      <td>64.000000</td>\n",
       "      <td>172.000000</td>\n",
       "      <td>5.400000</td>\n",
       "    </tr>\n",
       "  </tbody>\n",
       "</table>\n",
       "</div>"
      ],
      "text/plain": [
       "               YEAR    HOST CHAMPION  RUNNER UP THIRD PLACE      TEAMS  \\\n",
       "count     22.000000      22       22         22          22  22.000000   \n",
       "unique          NaN      18        9         11          15        NaN   \n",
       "top             NaN  France   Brazil  Argentina     Germany        NaN   \n",
       "freq            NaN       2        5          3           3        NaN   \n",
       "mean    1978.909091     NaN      NaN        NaN         NaN  22.227273   \n",
       "std       27.738419     NaN      NaN        NaN         NaN   7.602830   \n",
       "min     1930.000000     NaN      NaN        NaN         NaN  13.000000   \n",
       "25%     1959.000000     NaN      NaN        NaN         NaN  16.000000   \n",
       "50%     1980.000000     NaN      NaN        NaN         NaN  20.000000   \n",
       "75%     2001.000000     NaN      NaN        NaN         NaN  32.000000   \n",
       "max     2022.000000     NaN      NaN        NaN         NaN  32.000000   \n",
       "\n",
       "        MATCHES PLAYED  GOALS SCORED  AVG GOALS PER GAME  \n",
       "count        22.000000     22.000000           22.000000  \n",
       "unique             NaN           NaN                 NaN  \n",
       "top                NaN           NaN                 NaN  \n",
       "freq               NaN           NaN                 NaN  \n",
       "mean         43.727273    123.636364            3.059091  \n",
       "std          17.776876     34.841882            0.831327  \n",
       "min          16.000000     70.000000            2.200000  \n",
       "25%          32.000000     90.500000            2.600000  \n",
       "50%          45.000000    129.000000            2.700000  \n",
       "75%          64.000000    146.750000            3.450000  \n",
       "max          64.000000    172.000000            5.400000  "
      ]
     },
     "execution_count": 49,
     "metadata": {},
     "output_type": "execute_result"
    }
   ],
   "source": [
    "df_csv.describe(include=\"all\")"
   ]
  },
  {
   "cell_type": "markdown",
   "metadata": {
    "id": "M5-dvFRZpKYK"
   },
   "source": [
    "**View all the columns of dataset**"
   ]
  },
  {
   "cell_type": "code",
   "execution_count": 51,
   "metadata": {
    "colab": {
     "base_uri": "https://localhost:8080/"
    },
    "id": "IjCH3RyXo5jk",
    "outputId": "f0fa4269-adec-4390-ee9b-da7f3bb98454"
   },
   "outputs": [
    {
     "data": {
      "text/plain": [
       "Index(['YEAR', 'HOST', 'CHAMPION', 'RUNNER UP', 'THIRD PLACE', 'TEAMS',\n",
       "       'MATCHES PLAYED', 'GOALS SCORED', 'AVG GOALS PER GAME'],\n",
       "      dtype='object')"
      ]
     },
     "execution_count": 51,
     "metadata": {},
     "output_type": "execute_result"
    }
   ],
   "source": [
    "df_csv.columns"
   ]
  },
  {
   "cell_type": "markdown",
   "metadata": {
    "id": "tylgGED9pWGN"
   },
   "source": [
    "**Store the columns to analyze into their own variables**"
   ]
  },
  {
   "cell_type": "code",
   "execution_count": 53,
   "metadata": {
    "id": "WJFK787gme5M"
   },
   "outputs": [],
   "source": [
    "hosts = df_csv[\"HOST\"]\n",
    "champions = df_csv[\"CHAMPION\"]\n",
    "goals = df_csv[\"GOALS SCORED\"]\n",
    "goals_per_game = df_csv[\"AVG GOALS PER GAME\"]"
   ]
  },
  {
   "cell_type": "markdown",
   "metadata": {
    "id": "XQx0OVT5p-PJ"
   },
   "source": [
    "**View all unique hosts and count no. of times hosted**"
   ]
  },
  {
   "cell_type": "code",
   "execution_count": 55,
   "metadata": {
    "colab": {
     "base_uri": "https://localhost:8080/"
    },
    "id": "J2-AHwcgpdPy",
    "outputId": "0e0ba124-391e-42f0-a140-1300c0669340"
   },
   "outputs": [
    {
     "data": {
      "text/plain": [
       "array(['Uruguay', 'Italy', 'France', 'Brazil', 'Switzerland', 'Sweden',\n",
       "       'Chile', 'England', 'Mexico', 'West Germany', 'Argentina', 'Spain',\n",
       "       'United States', 'South Korea, Japan', 'Germany', 'South Africa',\n",
       "       'Russia', 'Qatar'], dtype=object)"
      ]
     },
     "execution_count": 55,
     "metadata": {},
     "output_type": "execute_result"
    }
   ],
   "source": [
    "hosts.unique()"
   ]
  },
  {
   "cell_type": "code",
   "execution_count": 56,
   "metadata": {
    "colab": {
     "base_uri": "https://localhost:8080/",
     "height": 679
    },
    "id": "TPTrCkYnpgiL",
    "outputId": "9fdf7746-0f83-4e83-b8a8-ee1fb5e8b116"
   },
   "outputs": [
    {
     "data": {
      "text/plain": [
       "HOST\n",
       "France                2\n",
       "Brazil                2\n",
       "Mexico                2\n",
       "Italy                 2\n",
       "Uruguay               1\n",
       "Spain                 1\n",
       "Russia                1\n",
       "South Africa          1\n",
       "Germany               1\n",
       "South Korea, Japan    1\n",
       "United States         1\n",
       "West Germany          1\n",
       "Argentina             1\n",
       "England               1\n",
       "Chile                 1\n",
       "Sweden                1\n",
       "Switzerland           1\n",
       "Qatar                 1\n",
       "Name: count, dtype: int64"
      ]
     },
     "execution_count": 56,
     "metadata": {},
     "output_type": "execute_result"
    }
   ],
   "source": [
    "hosts.value_counts()"
   ]
  },
  {
   "cell_type": "markdown",
   "metadata": {
    "id": "ny31w2JGqwti"
   },
   "source": [
    "**Analyze the champions**"
   ]
  },
  {
   "cell_type": "code",
   "execution_count": 58,
   "metadata": {
    "colab": {
     "base_uri": "https://localhost:8080/"
    },
    "id": "yjiLgqqVqfUT",
    "outputId": "1ca69d0b-d6b9-4516-c043-8ddc1541bc8c"
   },
   "outputs": [
    {
     "data": {
      "text/plain": [
       "array(['Uruguay', 'Italy', 'West Germany', 'Brazil', 'England',\n",
       "       'Argentina', 'France', 'Spain', 'Germany'], dtype=object)"
      ]
     },
     "execution_count": 58,
     "metadata": {},
     "output_type": "execute_result"
    }
   ],
   "source": [
    "champions.unique()"
   ]
  },
  {
   "cell_type": "code",
   "execution_count": 59,
   "metadata": {
    "colab": {
     "base_uri": "https://localhost:8080/",
     "height": 397
    },
    "id": "_RHRo1Xeqi65",
    "outputId": "5b8c106c-1ae3-45a0-d112-460a420ef52a"
   },
   "outputs": [
    {
     "data": {
      "text/plain": [
       "CHAMPION\n",
       "Brazil          5\n",
       "Italy           4\n",
       "West Germany    3\n",
       "Argentina       3\n",
       "Uruguay         2\n",
       "France          2\n",
       "England         1\n",
       "Spain           1\n",
       "Germany         1\n",
       "Name: count, dtype: int64"
      ]
     },
     "execution_count": 59,
     "metadata": {},
     "output_type": "execute_result"
    }
   ],
   "source": [
    "champions.value_counts()"
   ]
  },
  {
   "cell_type": "markdown",
   "metadata": {
    "id": "Tz2jKVDAqzkR"
   },
   "source": [
    "Here we can see that Brazil have been most succesful teams with 5 trophies followed by Italy and Germany with 4 titles each and Argentina with 3 titles."
   ]
  },
  {
   "cell_type": "markdown",
   "metadata": {
    "id": "lLSZscFBrSP7"
   },
   "source": [
    "#### **Computation measures of central tendency**\n",
    "*As the no. of teams and no. of matches played varies in different world cup, analyzing the total no. of goals won't be effective. So, we will be analyzing the average no. of goals scored per match*"
   ]
  },
  {
   "cell_type": "code",
   "execution_count": 62,
   "metadata": {
    "colab": {
     "base_uri": "https://localhost:8080/"
    },
    "id": "Vdi6ZbhMrBfi",
    "outputId": "efd24bad-95cf-4fd1-ae45-0beb460b4188"
   },
   "outputs": [
    {
     "name": "stdout",
     "output_type": "stream",
     "text": [
      "Mean: 3.059090909090909\n",
      "Median: 2.7\n",
      "Mode: 0    2.7\n",
      "Name: AVG GOALS PER GAME, dtype: float64\n"
     ]
    }
   ],
   "source": [
    "mean = goals_per_game.mean()\n",
    "median = goals_per_game.median()\n",
    "mode = goals_per_game.mode()\n",
    "\n",
    "print(f\"Mean: {mean}\\nMedian: {median}\\nMode: {mode}\")"
   ]
  },
  {
   "cell_type": "markdown",
   "metadata": {
    "id": "N4s-AGpXr_uK"
   },
   "source": [
    "**Observation**\n",
    "\n",
    "Here, Mean > Median = Mode."
   ]
  },
  {
   "cell_type": "markdown",
   "metadata": {
    "id": "SoaiD1EOt1rt"
   },
   "source": [
    "#### **Plotting distribution**"
   ]
  },
  {
   "cell_type": "code",
   "execution_count": 65,
   "metadata": {
    "colab": {
     "base_uri": "https://localhost:8080/",
     "height": 529
    },
    "id": "NKAMmynVshd5",
    "outputId": "13fbd539-9e0c-4d37-b351-8b0b81987951"
   },
   "outputs": [
    {
     "data": {
      "image/png": "[encoded data removed]",
      "text/plain": [
       "<Figure size 500x500 with 1 Axes>"
      ]
     },
     "metadata": {},
     "output_type": "display_data"
    }
   ],
   "source": [
    "sb.displot(goals_per_game, kde=True, bins=30, kind=\"hist\", color=\"red\")\n",
    "plt.title(\"Histogram of avg goals per game\")\n",
    "plt.xlabel(\"Avg goals per game\")\n",
    "plt.ylabel(\"Frequency\")\n",
    "plt.show()"
   ]
  },
  {
   "cell_type": "markdown",
   "metadata": {
    "id": "WGXsGrNjuBzr"
   },
   "source": [
    "#### **Computation measures of dispersion or variability**\n",
    "**Minimum Value**"
   ]
  },
  {
   "cell_type": "code",
   "execution_count": 67,
   "metadata": {
    "colab": {
     "base_uri": "https://localhost:8080/"
    },
    "id": "hLggGCOLuGH5",
    "outputId": "fb515daa-d369-47da-f3b8-8f9785d1961b"
   },
   "outputs": [
    {
     "data": {
      "text/plain": [
       "2.2"
      ]
     },
     "execution_count": 67,
     "metadata": {},
     "output_type": "execute_result"
    }
   ],
   "source": [
    "min = goals_per_game.min()\n",
    "min"
   ]
  },
  {
   "cell_type": "markdown",
   "metadata": {
    "id": "Ro90CyqjwqO1"
   },
   "source": [
    "**Maximum Value**"
   ]
  },
  {
   "cell_type": "code",
   "execution_count": 69,
   "metadata": {
    "colab": {
     "base_uri": "https://localhost:8080/"
    },
    "id": "C9RIzDWvuP7b",
    "outputId": "6b4ede5e-82bc-46f1-d746-6cb61b9e7e18"
   },
   "outputs": [
    {
     "data": {
      "text/plain": [
       "5.4"
      ]
     },
     "execution_count": 69,
     "metadata": {},
     "output_type": "execute_result"
    }
   ],
   "source": [
    "max = goals_per_game.max()\n",
    "max"
   ]
  },
  {
   "cell_type": "markdown",
   "metadata": {
    "id": "eCF4ZUvAwr5F"
   },
   "source": [
    "**Range**"
   ]
  },
  {
   "cell_type": "code",
   "execution_count": 71,
   "metadata": {
    "colab": {
     "base_uri": "https://localhost:8080/"
    },
    "id": "P91X_p65uSHg",
    "outputId": "2722880a-43a5-4219-9adb-0446a5b791ef"
   },
   "outputs": [
    {
     "data": {
      "text/plain": [
       "3.2"
      ]
     },
     "execution_count": 71,
     "metadata": {},
     "output_type": "execute_result"
    }
   ],
   "source": [
    "range = max - min\n",
    "range"
   ]
  },
  {
   "cell_type": "markdown",
   "metadata": {
    "id": "u2zXCOLwwta7"
   },
   "source": [
    "**Variance**"
   ]
  },
  {
   "cell_type": "code",
   "execution_count": 73,
   "metadata": {
    "colab": {
     "base_uri": "https://localhost:8080/"
    },
    "id": "EBf4x91zuVKx",
    "outputId": "5bcdabe4-a6fa-4850-a843-eb13664b4b87"
   },
   "outputs": [
    {
     "data": {
      "text/plain": [
       "0.6911038961038959"
      ]
     },
     "execution_count": 73,
     "metadata": {},
     "output_type": "execute_result"
    }
   ],
   "source": [
    "goals_per_game.var()"
   ]
  },
  {
   "cell_type": "markdown",
   "metadata": {
    "id": "joaJ2WQdwuZ0"
   },
   "source": [
    "**Standard Deviation**"
   ]
  },
  {
   "cell_type": "code",
   "execution_count": 75,
   "metadata": {
    "colab": {
     "base_uri": "https://localhost:8080/"
    },
    "id": "kE9IUijxubBh",
    "outputId": "750c62c7-2c11-44f3-ea84-2cc9542d7718"
   },
   "outputs": [
    {
     "data": {
      "text/plain": [
       "0.8313265881131771"
      ]
     },
     "execution_count": 75,
     "metadata": {},
     "output_type": "execute_result"
    }
   ],
   "source": [
    "goals_per_game.std()"
   ]
  },
  {
   "cell_type": "markdown",
   "metadata": {
    "id": "SC1ipgnQwv4c"
   },
   "source": [
    "**First Quratile**"
   ]
  },
  {
   "cell_type": "code",
   "execution_count": 77,
   "metadata": {
    "colab": {
     "base_uri": "https://localhost:8080/"
    },
    "id": "QLGs4fNpudHK",
    "outputId": "98ca9d60-9b02-4b63-e19b-adfcd565237f"
   },
   "outputs": [
    {
     "data": {
      "text/plain": [
       "2.6"
      ]
     },
     "execution_count": 77,
     "metadata": {},
     "output_type": "execute_result"
    }
   ],
   "source": [
    "Q1 = goals_per_game.quantile(0.25)\n",
    "Q1"
   ]
  },
  {
   "cell_type": "markdown",
   "metadata": {
    "id": "cZanX8wdwzqL"
   },
   "source": [
    "**Second Quartile**"
   ]
  },
  {
   "cell_type": "code",
   "execution_count": 79,
   "metadata": {
    "colab": {
     "base_uri": "https://localhost:8080/"
    },
    "id": "TOmCPPDquxIT",
    "outputId": "99decb1d-13ef-489e-d3d5-231c4fef0de4"
   },
   "outputs": [
    {
     "data": {
      "text/plain": [
       "2.7"
      ]
     },
     "execution_count": 79,
     "metadata": {},
     "output_type": "execute_result"
    }
   ],
   "source": [
    "Q2 = goals_per_game.quantile(0.5)\n",
    "Q2"
   ]
  },
  {
   "cell_type": "markdown",
   "metadata": {
    "id": "Lt28MOixw1Bz"
   },
   "source": [
    "**Third Quratile**"
   ]
  },
  {
   "cell_type": "code",
   "execution_count": 81,
   "metadata": {
    "colab": {
     "base_uri": "https://localhost:8080/"
    },
    "id": "f-QvptHcuoH5",
    "outputId": "e524a1fa-33aa-4bbf-e729-0751d88a7460"
   },
   "outputs": [
    {
     "data": {
      "text/plain": [
       "3.45"
      ]
     },
     "execution_count": 81,
     "metadata": {},
     "output_type": "execute_result"
    }
   ],
   "source": [
    "Q3 = goals_per_game.quantile(0.75)\n",
    "Q3"
   ]
  },
  {
   "cell_type": "markdown",
   "metadata": {
    "id": "WJF2yQFZw5Nk"
   },
   "source": [
    "**Interquartile Range**"
   ]
  },
  {
   "cell_type": "code",
   "execution_count": 83,
   "metadata": {
    "colab": {
     "base_uri": "https://localhost:8080/"
    },
    "id": "XkhH8s-Bur4B",
    "outputId": "7c394e93-f871-4265-e8b6-ecf7b60d1c6b"
   },
   "outputs": [
    {
     "data": {
      "text/plain": [
       "0.8500000000000001"
      ]
     },
     "execution_count": 83,
     "metadata": {},
     "output_type": "execute_result"
    }
   ],
   "source": [
    "IQR = Q3 - Q1\n",
    "IQR"
   ]
  },
  {
   "cell_type": "markdown",
   "metadata": {
    "id": "rWjmKaCqu75j"
   },
   "source": [
    "#### **Draw BoxPlot**"
   ]
  },
  {
   "cell_type": "code",
   "execution_count": 85,
   "metadata": {
    "colab": {
     "base_uri": "https://localhost:8080/",
     "height": 599
    },
    "id": "x4XyPjDIu5_R",
    "outputId": "10be13a0-519c-4cea-d88e-55a052a7c69a"
   },
   "outputs": [
    {
     "data": {
      "text/plain": [
       "<function matplotlib.pyplot.show(close=None, block=None)>"
      ]
     },
     "execution_count": 85,
     "metadata": {},
     "output_type": "execute_result"
    },
    {
     "data": {
      "image/png": "[encoded data removed]",
      "text/plain": [
       "<Figure size 640x480 with 1 Axes>"
      ]
     },
     "metadata": {},
     "output_type": "display_data"
    }
   ],
   "source": [
    "plt.boxplot(goals_per_game)\n",
    "plt.show"
   ]
  },
  {
   "cell_type": "markdown",
   "metadata": {
    "id": "O0tlwU2GvHML"
   },
   "source": [
    "#### **Computation measures of shape or distribution**\n",
    "\n",
    "\n"
   ]
  },
  {
   "cell_type": "markdown",
   "metadata": {
    "id": "QWgBY_XUw8RL"
   },
   "source": [
    "**Skewness**"
   ]
  },
  {
   "cell_type": "code",
   "execution_count": 88,
   "metadata": {
    "colab": {
     "base_uri": "https://localhost:8080/"
    },
    "id": "z2uynFf2vEmj",
    "outputId": "355f8966-c516-42cb-efe2-68387252cb9c"
   },
   "outputs": [
    {
     "data": {
      "text/plain": [
       "1.5670229988341382"
      ]
     },
     "execution_count": 88,
     "metadata": {},
     "output_type": "execute_result"
    }
   ],
   "source": [
    "goals_per_game.skew()"
   ]
  },
  {
   "cell_type": "markdown",
   "metadata": {
    "id": "ftkrJ3Ffw-R7"
   },
   "source": [
    "**Kurtosis**"
   ]
  },
  {
   "cell_type": "code",
   "execution_count": 90,
   "metadata": {
    "colab": {
     "base_uri": "https://localhost:8080/"
    },
    "id": "-8QFCfV5vNSa",
    "outputId": "d7738a83-3a34-4759-a6f1-d468370083ed"
   },
   "outputs": [
    {
     "data": {
      "text/plain": [
       "1.9611615006183198"
      ]
     },
     "execution_count": 90,
     "metadata": {},
     "output_type": "execute_result"
    }
   ],
   "source": [
    "goals_per_game.kurt()"
   ]
  },
  {
   "cell_type": "markdown",
   "metadata": {
    "id": "HBNlm8BqxCsr"
   },
   "source": [
    "#### **Histogram using Matplotlib**"
   ]
  },
  {
   "cell_type": "code",
   "execution_count": 92,
   "metadata": {
    "colab": {
     "base_uri": "https://localhost:8080/",
     "height": 478
    },
    "id": "zcA-Oe3YvP5q",
    "outputId": "f5a51ee4-4e6d-405b-a806-b0ac0d3b83e1"
   },
   "outputs": [
    {
     "data": {
      "image/png": "[encoded data removed]",
      "text/plain": [
       "<Figure size 640x480 with 1 Axes>"
      ]
     },
     "metadata": {},
     "output_type": "display_data"
    }
   ],
   "source": [
    "plt.hist(goals_per_game)\n",
    "plt.title(\"Histogram of avg. goals per game\", fontsize=15)\n",
    "plt.xlabel(\"Average Goals Per Game\", fontsize=12)\n",
    "plt.ylabel(\"Frequency\", fontsize=12)\n",
    "plt.grid(True)\n",
    "plt.show()"
   ]
  },
  {
   "cell_type": "markdown",
   "metadata": {},
   "source": [
    "### **1.5 Conclusion**\n",
    "Hence, Anaconda Navigator and Jupyter Notebook, along with Python packages such as NumPy, Pandas, Matplotlib, and Seaborn, have been successfully downloaded and installed. Also, these data science packages were explored in Google Colab to perform descriptive statistical analysis."
   ]
  }
 ],
 "metadata": {
  "colab": {
   "provenance": []
  },
  "kernelspec": {
   "display_name": "Python 3 (ipykernel)",
   "language": "python",
   "name": "python3"
  },
  "language_info": {
   "codemirror_mode": {
    "name": "ipython",
    "version": 3
   },
   "file_extension": ".py",
   "mimetype": "text/x-python",
   "name": "python",
   "nbconvert_exporter": "python",
   "pygments_lexer": "ipython3",
   "version": "3.12.7"
  }
 },
 "nbformat": 4,
 "nbformat_minor": 4
}
